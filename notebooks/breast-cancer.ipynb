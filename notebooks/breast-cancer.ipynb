{
 "cells": [
  {
   "cell_type": "markdown",
   "id": "54e99d96",
   "metadata": {
    "_cell_guid": "b1076dfc-b9ad-4769-8c92-a6c4dae69d19",
    "_uuid": "8f2839f25d086af736a60e9eeb907d3b93b6e0e5",
    "papermill": {
     "duration": 0.06277,
     "end_time": "2021-05-27T10:16:38.749712",
     "exception": false,
     "start_time": "2021-05-27T10:16:38.686942",
     "status": "completed"
    },
    "tags": []
   },
   "source": [
    "# Breast Cancer Prediction"
   ]
  },
  {
   "cell_type": "markdown",
   "id": "8527215d",
   "metadata": {
    "papermill": {
     "duration": 0.06093,
     "end_time": "2021-05-27T10:16:38.997898",
     "exception": false,
     "start_time": "2021-05-27T10:16:38.936968",
     "status": "completed"
    },
    "tags": []
   },
   "source": [
    "##  Importing libraries"
   ]
  },
  {
   "cell_type": "code",
   "execution_count": 1,
   "id": "f19f3399",
   "metadata": {
    "papermill": {
     "duration": 0.958883,
     "end_time": "2021-05-27T10:16:40.018651",
     "exception": false,
     "start_time": "2021-05-27T10:16:39.059768",
     "status": "completed"
    },
    "scrolled": true,
    "tags": []
   },
   "outputs": [
    {
     "ename": "ModuleNotFoundError",
     "evalue": "No module named 'missingno'",
     "output_type": "error",
     "traceback": [
      "\u001b[1;31m---------------------------------------------------------------------------\u001b[0m",
      "\u001b[1;31mModuleNotFoundError\u001b[0m                       Traceback (most recent call last)",
      "Input \u001b[1;32mIn [1]\u001b[0m, in \u001b[0;36m<cell line: 8>\u001b[1;34m()\u001b[0m\n\u001b[0;32m      6\u001b[0m \u001b[38;5;28;01mimport\u001b[39;00m \u001b[38;5;21;01mseaborn\u001b[39;00m \u001b[38;5;28;01mas\u001b[39;00m \u001b[38;5;21;01msns\u001b[39;00m\n\u001b[0;32m      7\u001b[0m \u001b[38;5;28;01mimport\u001b[39;00m \u001b[38;5;21;01mmatplotlib\u001b[39;00m\u001b[38;5;21;01m.\u001b[39;00m\u001b[38;5;21;01mpyplot\u001b[39;00m \u001b[38;5;28;01mas\u001b[39;00m \u001b[38;5;21;01mplt\u001b[39;00m\n\u001b[1;32m----> 8\u001b[0m \u001b[38;5;28;01mimport\u001b[39;00m \u001b[38;5;21;01mmissingno\u001b[39;00m \u001b[38;5;28;01mas\u001b[39;00m \u001b[38;5;21;01mmsno\u001b[39;00m\n\u001b[0;32m     10\u001b[0m \u001b[38;5;28;01mimport\u001b[39;00m \u001b[38;5;21;01mwarnings\u001b[39;00m\n\u001b[0;32m     11\u001b[0m warnings\u001b[38;5;241m.\u001b[39mfilterwarnings(\u001b[38;5;124m'\u001b[39m\u001b[38;5;124mignore\u001b[39m\u001b[38;5;124m'\u001b[39m)\n",
      "\u001b[1;31mModuleNotFoundError\u001b[0m: No module named 'missingno'"
     ]
    }
   ],
   "source": [
    "# Importing libraries\n",
    "\n",
    "import pandas as pd\n",
    "\n",
    "import numpy as np\n",
    "import seaborn as sns\n",
    "import matplotlib.pyplot as plt\n",
    "import missingno as msno\n",
    "\n",
    "import warnings\n",
    "warnings.filterwarnings('ignore')\n",
    "\n",
    "sns.set()\n",
    "plt.style.use('ggplot')"
   ]
  },
  {
   "cell_type": "markdown",
   "id": "6d4bbd9c",
   "metadata": {
    "papermill": {
     "duration": 0.062617,
     "end_time": "2021-05-27T10:16:40.145173",
     "exception": false,
     "start_time": "2021-05-27T10:16:40.082556",
     "status": "completed"
    },
    "tags": []
   },
   "source": [
    "## Load the data"
   ]
  },
  {
   "cell_type": "code",
   "execution_count": null,
   "id": "52a0a636",
   "metadata": {
    "scrolled": true
   },
   "outputs": [],
   "source": [
    "df = pd.read_csv('data/data.csv')"
   ]
  },
  {
   "cell_type": "code",
   "execution_count": null,
   "id": "131cb6f1",
   "metadata": {},
   "outputs": [],
   "source": [
    "df.head()"
   ]
  },
  {
   "cell_type": "markdown",
   "id": "06be71e2",
   "metadata": {
    "papermill": {
     "duration": 0.063666,
     "end_time": "2021-05-27T10:16:40.608416",
     "exception": false,
     "start_time": "2021-05-27T10:16:40.544750",
     "status": "completed"
    },
    "tags": []
   },
   "source": [
    "## Data Preprocessing"
   ]
  },
  {
   "cell_type": "code",
   "execution_count": null,
   "id": "0d00b8d1",
   "metadata": {
    "papermill": {
     "duration": 0.074291,
     "end_time": "2021-05-27T10:16:40.745967",
     "exception": false,
     "start_time": "2021-05-27T10:16:40.671676",
     "status": "completed"
    },
    "tags": []
   },
   "outputs": [],
   "source": [
    "df.drop(['id', 'Unnamed: 32'], axis = 1, inplace = True)"
   ]
  },
  {
   "cell_type": "code",
   "execution_count": null,
   "id": "86c1e589",
   "metadata": {
    "papermill": {
     "duration": 0.075319,
     "end_time": "2021-05-27T10:16:40.885048",
     "exception": false,
     "start_time": "2021-05-27T10:16:40.809729",
     "status": "completed"
    },
    "tags": []
   },
   "outputs": [],
   "source": [
    "df.diagnosis.unique()"
   ]
  },
  {
   "cell_type": "code",
   "execution_count": null,
   "id": "b55931ad",
   "metadata": {
    "papermill": {
     "duration": 0.072389,
     "end_time": "2021-05-27T10:16:41.020354",
     "exception": false,
     "start_time": "2021-05-27T10:16:40.947965",
     "status": "completed"
    },
    "tags": []
   },
   "outputs": [],
   "source": [
    "df['diagnosis'] = df['diagnosis'].apply(lambda val: 1 if val == 'M' else 0)"
   ]
  },
  {
   "cell_type": "code",
   "execution_count": null,
   "id": "d9e4c1c6",
   "metadata": {
    "papermill": {
     "duration": 0.093276,
     "end_time": "2021-05-27T10:16:41.177327",
     "exception": false,
     "start_time": "2021-05-27T10:16:41.084051",
     "status": "completed"
    },
    "tags": []
   },
   "outputs": [],
   "source": [
    "df.head()"
   ]
  },
  {
   "cell_type": "code",
   "execution_count": null,
   "id": "6cf398ec",
   "metadata": {
    "papermill": {
     "duration": 0.162512,
     "end_time": "2021-05-27T10:16:41.403980",
     "exception": false,
     "start_time": "2021-05-27T10:16:41.241468",
     "status": "completed"
    },
    "tags": []
   },
   "outputs": [],
   "source": [
    "df.describe()"
   ]
  },
  {
   "cell_type": "code",
   "execution_count": null,
   "id": "9f69e85e",
   "metadata": {
    "papermill": {
     "duration": 0.088942,
     "end_time": "2021-05-27T10:16:41.558731",
     "exception": false,
     "start_time": "2021-05-27T10:16:41.469789",
     "status": "completed"
    },
    "tags": []
   },
   "outputs": [],
   "source": [
    "df.info()"
   ]
  },
  {
   "cell_type": "code",
   "execution_count": null,
   "id": "6175e6b9",
   "metadata": {
    "papermill": {
     "duration": 0.080262,
     "end_time": "2021-05-27T10:16:41.708301",
     "exception": false,
     "start_time": "2021-05-27T10:16:41.628039",
     "status": "completed"
    },
    "tags": []
   },
   "outputs": [],
   "source": [
    "# checking for null values\n",
    "\n",
    "df.isna().sum()"
   ]
  },
  {
   "cell_type": "code",
   "execution_count": null,
   "id": "6fb2e387",
   "metadata": {
    "papermill": {
     "duration": 3.149089,
     "end_time": "2021-05-27T10:16:44.923717",
     "exception": false,
     "start_time": "2021-05-27T10:16:41.774628",
     "status": "completed"
    },
    "tags": []
   },
   "outputs": [],
   "source": [
    "# visualizing null values\n",
    "\n",
    "msno.bar(df)"
   ]
  },
  {
   "cell_type": "markdown",
   "id": "76e690b0",
   "metadata": {
    "papermill": {
     "duration": 0.070509,
     "end_time": "2021-05-27T10:16:45.065250",
     "exception": false,
     "start_time": "2021-05-27T10:16:44.994741",
     "status": "completed"
    },
    "tags": []
   },
   "source": [
    "#### There are no missing values in the data."
   ]
  },
  {
   "cell_type": "code",
   "execution_count": null,
   "id": "285a51c4",
   "metadata": {},
   "outputs": [],
   "source": [
    "df.describe()\n",
    "plt.hist(df['diagnosis'])\n",
    "plt.title('Diagnosis (M=1 , B=0)')\n",
    "plt.show()"
   ]
  },
  {
   "cell_type": "markdown",
   "id": "6c34bc6c",
   "metadata": {
    "papermill": {
     "duration": 0.069493,
     "end_time": "2021-05-27T10:16:45.206865",
     "exception": false,
     "start_time": "2021-05-27T10:16:45.137372",
     "status": "completed"
    },
    "tags": []
   },
   "source": [
    "## Exploratory Data Analysis (EDA)"
   ]
  },
  {
   "cell_type": "code",
   "execution_count": null,
   "id": "65681d93",
   "metadata": {
    "papermill": {
     "duration": 2.922896,
     "end_time": "2021-05-27T10:16:55.124435",
     "exception": false,
     "start_time": "2021-05-27T10:16:52.201539",
     "status": "completed"
    },
    "tags": []
   },
   "outputs": [],
   "source": [
    "# heatmap \n",
    "\n",
    "plt.figure(figsize = (20, 12))\n",
    "\n",
    "corr = df.corr()\n",
    "mask = np.triu(np.ones_like(corr, dtype = bool))\n",
    "\n",
    "sns.heatmap(corr, mask = mask, linewidths = 1, annot = True, fmt = \".2f\")\n",
    "plt.show()"
   ]
  },
  {
   "cell_type": "markdown",
   "id": "c58efe4b",
   "metadata": {
    "papermill": {
     "duration": 0.086494,
     "end_time": "2021-05-27T10:16:55.298605",
     "exception": false,
     "start_time": "2021-05-27T10:16:55.212111",
     "status": "completed"
    },
    "tags": []
   },
   "source": [
    "### We can see that there are many columns which are very highly correlated which causes multicollinearity so we have to remove highly correlated features."
   ]
  },
  {
   "cell_type": "code",
   "execution_count": null,
   "id": "9031ba28",
   "metadata": {
    "papermill": {
     "duration": 0.111743,
     "end_time": "2021-05-27T10:16:55.497126",
     "exception": false,
     "start_time": "2021-05-27T10:16:55.385383",
     "status": "completed"
    },
    "tags": []
   },
   "outputs": [],
   "source": [
    "# removing highly correlated features\n",
    "\n",
    "corr_matrix = df.corr().abs() \n",
    "\n",
    "mask = np.triu(np.ones_like(corr_matrix, dtype = bool))\n",
    "tri_df = corr_matrix.mask(mask)\n",
    "\n",
    "to_drop = [x for x in tri_df.columns if any(tri_df[x] > 0.92)]\n",
    "\n",
    "df = df.drop(to_drop, axis = 1)\n",
    "\n",
    "print(f\"The reduced dataframe has {df.shape[1]} columns.\")"
   ]
  },
  {
   "cell_type": "code",
   "execution_count": null,
   "id": "9d696cb6-1117-4cab-b89b-998adc66c736",
   "metadata": {},
   "outputs": [],
   "source": [
    "to_drop"
   ]
  },
  {
   "cell_type": "code",
   "execution_count": null,
   "id": "ae290a97-4ef1-4ca6-bcb3-b18277b887d6",
   "metadata": {},
   "outputs": [],
   "source": [
    "df.info()"
   ]
  },
  {
   "cell_type": "code",
   "execution_count": null,
   "id": "22c82b73",
   "metadata": {
    "papermill": {
     "duration": 0.095818,
     "end_time": "2021-05-27T10:16:55.681192",
     "exception": false,
     "start_time": "2021-05-27T10:16:55.585374",
     "status": "completed"
    },
    "tags": []
   },
   "outputs": [],
   "source": [
    "# creating features and label \n",
    "\n",
    "X = df.drop('diagnosis', axis = 1)\n",
    "y = df['diagnosis']"
   ]
  },
  {
   "cell_type": "code",
   "execution_count": null,
   "id": "18ab3874",
   "metadata": {
    "papermill": {
     "duration": 0.328449,
     "end_time": "2021-05-27T10:16:56.097185",
     "exception": false,
     "start_time": "2021-05-27T10:16:55.768736",
     "status": "completed"
    },
    "tags": []
   },
   "outputs": [],
   "source": [
    "# splitting data into training and test set\n",
    "\n",
    "from sklearn.model_selection import train_test_split\n",
    "\n",
    "X_train, X_test, y_train, y_test = train_test_split(X, y, test_size = 0.30, random_state = 0)"
   ]
  },
  {
   "cell_type": "code",
   "execution_count": null,
   "id": "95722f0e",
   "metadata": {
    "papermill": {
     "duration": 0.103107,
     "end_time": "2021-05-27T10:16:56.287800",
     "exception": false,
     "start_time": "2021-05-27T10:16:56.184693",
     "status": "completed"
    },
    "tags": []
   },
   "outputs": [],
   "source": [
    "# scaling data\n",
    "\n",
    "from sklearn.preprocessing import StandardScaler\n",
    "\n",
    "scaler = StandardScaler()\n",
    "\n",
    "X_train = scaler.fit_transform(X_train)\n",
    "X_test = scaler.transform(X_test)"
   ]
  },
  {
   "cell_type": "markdown",
   "id": "13c48b20",
   "metadata": {
    "papermill": {
     "duration": 0.090531,
     "end_time": "2021-05-27T10:16:56.465365",
     "exception": false,
     "start_time": "2021-05-27T10:16:56.374834",
     "status": "completed"
    },
    "tags": []
   },
   "source": [
    "# Logistic Regression"
   ]
  },
  {
   "cell_type": "code",
   "execution_count": null,
   "id": "4c0b4ff7",
   "metadata": {
    "papermill": {
     "duration": 0.230062,
     "end_time": "2021-05-27T10:16:56.782933",
     "exception": false,
     "start_time": "2021-05-27T10:16:56.552871",
     "status": "completed"
    },
    "tags": []
   },
   "outputs": [],
   "source": [
    "# fitting data to model\n",
    "\n",
    "from sklearn.linear_model import LogisticRegression\n",
    "\n",
    "log_reg = LogisticRegression()\n",
    "log_reg.fit(X_train, y_train)"
   ]
  },
  {
   "cell_type": "code",
   "execution_count": null,
   "id": "00119597",
   "metadata": {
    "papermill": {
     "duration": 0.096415,
     "end_time": "2021-05-27T10:16:56.969030",
     "exception": false,
     "start_time": "2021-05-27T10:16:56.872615",
     "status": "completed"
    },
    "tags": []
   },
   "outputs": [],
   "source": [
    "# model predictions\n",
    "\n",
    "y_pred = log_reg.predict(X_test)"
   ]
  },
  {
   "cell_type": "code",
   "execution_count": null,
   "id": "a4606f39",
   "metadata": {
    "papermill": {
     "duration": 0.102337,
     "end_time": "2021-05-27T10:16:57.162538",
     "exception": false,
     "start_time": "2021-05-27T10:16:57.060201",
     "status": "completed"
    },
    "tags": []
   },
   "outputs": [],
   "source": [
    "# accuracy score\n",
    "\n",
    "from sklearn.metrics import accuracy_score, confusion_matrix, classification_report\n",
    "\n",
    "print(accuracy_score(y_train, log_reg.predict(X_train)))\n",
    "\n",
    "log_reg_acc = accuracy_score(y_test, log_reg.predict(X_test))\n",
    "print(log_reg_acc)"
   ]
  },
  {
   "cell_type": "code",
   "execution_count": null,
   "id": "6b4f50e8",
   "metadata": {
    "papermill": {
     "duration": 0.124802,
     "end_time": "2021-05-27T10:16:57.376325",
     "exception": false,
     "start_time": "2021-05-27T10:16:57.251523",
     "status": "completed"
    },
    "tags": []
   },
   "outputs": [],
   "source": [
    "# confusion matrix\n",
    "\n",
    "print(confusion_matrix(y_test, y_pred))"
   ]
  },
  {
   "cell_type": "code",
   "execution_count": null,
   "id": "2f86e9f4",
   "metadata": {
    "papermill": {
     "duration": 0.105216,
     "end_time": "2021-05-27T10:16:57.569914",
     "exception": false,
     "start_time": "2021-05-27T10:16:57.464698",
     "status": "completed"
    },
    "tags": []
   },
   "outputs": [],
   "source": [
    "# classification report\n",
    "\n",
    "print(classification_report(y_test, y_pred))"
   ]
  },
  {
   "cell_type": "markdown",
   "id": "142ccdce",
   "metadata": {
    "papermill": {
     "duration": 0.090046,
     "end_time": "2021-05-27T10:16:57.750449",
     "exception": false,
     "start_time": "2021-05-27T10:16:57.660403",
     "status": "completed"
    },
    "tags": []
   },
   "source": [
    "# K Neighbors Classifier (KNN)"
   ]
  },
  {
   "cell_type": "code",
   "execution_count": null,
   "id": "4fa2635b",
   "metadata": {
    "papermill": {
     "duration": 0.186861,
     "end_time": "2021-05-27T10:16:58.026543",
     "exception": false,
     "start_time": "2021-05-27T10:16:57.839682",
     "status": "completed"
    },
    "tags": []
   },
   "outputs": [],
   "source": [
    "from sklearn.neighbors import KNeighborsClassifier\n",
    "\n",
    "knn = KNeighborsClassifier()\n",
    "knn.fit(X_train, y_train)"
   ]
  },
  {
   "cell_type": "code",
   "execution_count": null,
   "id": "b14ac1b5",
   "metadata": {
    "papermill": {
     "duration": 0.120555,
     "end_time": "2021-05-27T10:16:58.238174",
     "exception": false,
     "start_time": "2021-05-27T10:16:58.117619",
     "status": "completed"
    },
    "tags": []
   },
   "outputs": [],
   "source": [
    "# model predictions \n",
    "\n",
    "y_pred = knn.predict(X_test)"
   ]
  },
  {
   "cell_type": "code",
   "execution_count": null,
   "id": "f6cd504d",
   "metadata": {
    "papermill": {
     "duration": 0.148333,
     "end_time": "2021-05-27T10:16:58.525448",
     "exception": false,
     "start_time": "2021-05-27T10:16:58.377115",
     "status": "completed"
    },
    "tags": []
   },
   "outputs": [],
   "source": [
    "# accuracy score\n",
    "\n",
    "print(accuracy_score(y_train, knn.predict(X_train)))\n",
    "\n",
    "knn_acc = accuracy_score(y_test, knn.predict(X_test))\n",
    "print(knn_acc)"
   ]
  },
  {
   "cell_type": "code",
   "execution_count": null,
   "id": "e474d526",
   "metadata": {
    "papermill": {
     "duration": 0.100062,
     "end_time": "2021-05-27T10:16:58.761914",
     "exception": false,
     "start_time": "2021-05-27T10:16:58.661852",
     "status": "completed"
    },
    "tags": []
   },
   "outputs": [],
   "source": [
    "# confusion matrix\n",
    "\n",
    "print(confusion_matrix(y_test, y_pred))"
   ]
  },
  {
   "cell_type": "code",
   "execution_count": null,
   "id": "85628b4e",
   "metadata": {
    "papermill": {
     "duration": 0.103799,
     "end_time": "2021-05-27T10:16:58.958690",
     "exception": false,
     "start_time": "2021-05-27T10:16:58.854891",
     "status": "completed"
    },
    "tags": []
   },
   "outputs": [],
   "source": [
    "# classification report\n",
    "\n",
    "print(classification_report(y_test, y_pred))"
   ]
  },
  {
   "cell_type": "markdown",
   "id": "f12dcd23",
   "metadata": {
    "papermill": {
     "duration": 0.092339,
     "end_time": "2021-05-27T10:16:59.143254",
     "exception": false,
     "start_time": "2021-05-27T10:16:59.050915",
     "status": "completed"
    },
    "tags": []
   },
   "source": [
    "# Support Vector Machine (SVM)"
   ]
  },
  {
   "cell_type": "code",
   "execution_count": null,
   "id": "0ac56b56",
   "metadata": {
    "papermill": {
     "duration": 1.250571,
     "end_time": "2021-05-27T10:17:00.486080",
     "exception": false,
     "start_time": "2021-05-27T10:16:59.235509",
     "status": "completed"
    },
    "tags": []
   },
   "outputs": [],
   "source": [
    "from sklearn.svm import SVC\n",
    "from sklearn.model_selection import GridSearchCV\n",
    "\n",
    "svc = SVC(probability=True)\n",
    "parameters = {\n",
    "    'gamma' : [0.0001, 0.001, 0.01, 0.1],\n",
    "    'C' : [0.01, 0.05, 0.5, 0.1, 1, 10, 15, 20]\n",
    "}\n",
    "\n",
    "grid_search = GridSearchCV(svc, parameters)\n",
    "grid_search.fit(X_train, y_train)"
   ]
  },
  {
   "cell_type": "code",
   "execution_count": null,
   "id": "535e7951",
   "metadata": {
    "papermill": {
     "duration": 0.101003,
     "end_time": "2021-05-27T10:17:00.705321",
     "exception": false,
     "start_time": "2021-05-27T10:17:00.604318",
     "status": "completed"
    },
    "tags": []
   },
   "outputs": [],
   "source": [
    "# best parameters\n",
    "\n",
    "grid_search.best_params_"
   ]
  },
  {
   "cell_type": "code",
   "execution_count": null,
   "id": "e05baa79",
   "metadata": {
    "papermill": {
     "duration": 0.102484,
     "end_time": "2021-05-27T10:17:00.901288",
     "exception": false,
     "start_time": "2021-05-27T10:17:00.798804",
     "status": "completed"
    },
    "tags": []
   },
   "outputs": [],
   "source": [
    "# best score \n",
    "\n",
    "grid_search.best_score_"
   ]
  },
  {
   "cell_type": "code",
   "execution_count": null,
   "id": "a562bf08",
   "metadata": {
    "papermill": {
     "duration": 0.107715,
     "end_time": "2021-05-27T10:17:01.102281",
     "exception": false,
     "start_time": "2021-05-27T10:17:00.994566",
     "status": "completed"
    },
    "tags": []
   },
   "outputs": [],
   "source": [
    "svc = SVC(C = 10, gamma = 0.01, probability=True)\n",
    "svc.fit(X_train, y_train)"
   ]
  },
  {
   "cell_type": "code",
   "execution_count": null,
   "id": "115a0895",
   "metadata": {
    "papermill": {
     "duration": 0.101973,
     "end_time": "2021-05-27T10:17:01.298197",
     "exception": false,
     "start_time": "2021-05-27T10:17:01.196224",
     "status": "completed"
    },
    "tags": []
   },
   "outputs": [],
   "source": [
    "# model predictions \n",
    "\n",
    "y_pred = svc.predict(X_test)"
   ]
  },
  {
   "cell_type": "code",
   "execution_count": null,
   "id": "aa7ae8df",
   "metadata": {
    "papermill": {
     "duration": 0.108558,
     "end_time": "2021-05-27T10:17:01.500385",
     "exception": false,
     "start_time": "2021-05-27T10:17:01.391827",
     "status": "completed"
    },
    "tags": []
   },
   "outputs": [],
   "source": [
    "# accuracy score\n",
    "\n",
    "print(accuracy_score(y_train, svc.predict(X_train)))\n",
    "\n",
    "svc_acc = accuracy_score(y_test, svc.predict(X_test))\n",
    "print(svc_acc)"
   ]
  },
  {
   "cell_type": "code",
   "execution_count": null,
   "id": "58de71ac",
   "metadata": {
    "papermill": {
     "duration": 0.103948,
     "end_time": "2021-05-27T10:17:01.697372",
     "exception": false,
     "start_time": "2021-05-27T10:17:01.593424",
     "status": "completed"
    },
    "tags": []
   },
   "outputs": [],
   "source": [
    "# confusion matrix\n",
    "\n",
    "print(confusion_matrix(y_test, y_pred))"
   ]
  },
  {
   "cell_type": "code",
   "execution_count": null,
   "id": "dba536b4",
   "metadata": {
    "papermill": {
     "duration": 0.106697,
     "end_time": "2021-05-27T10:17:01.898785",
     "exception": false,
     "start_time": "2021-05-27T10:17:01.792088",
     "status": "completed"
    },
    "tags": []
   },
   "outputs": [],
   "source": [
    "# classification report\n",
    "\n",
    "print(classification_report(y_test, y_pred))"
   ]
  },
  {
   "cell_type": "markdown",
   "id": "641979d1",
   "metadata": {
    "papermill": {
     "duration": 0.097403,
     "end_time": "2021-05-27T10:17:06.337415",
     "exception": false,
     "start_time": "2021-05-27T10:17:06.240012",
     "status": "completed"
    },
    "tags": []
   },
   "source": [
    "# Decision Tree Classifier"
   ]
  },
  {
   "cell_type": "code",
   "execution_count": null,
   "id": "804b1062",
   "metadata": {
    "papermill": {
     "duration": 64.263936,
     "end_time": "2021-05-27T10:18:10.699980",
     "exception": false,
     "start_time": "2021-05-27T10:17:06.436044",
     "status": "completed"
    },
    "tags": []
   },
   "outputs": [],
   "source": [
    "from sklearn.tree import DecisionTreeClassifier\n",
    "\n",
    "dtc = DecisionTreeClassifier()\n",
    "\n",
    "parameters = {\n",
    "    'criterion' : ['gini', 'entropy'],\n",
    "    'max_depth' : range(2, 32, 1),\n",
    "    'min_samples_leaf' : range(1, 10, 1),\n",
    "    'min_samples_split' : range(2, 10, 1),\n",
    "    'splitter' : ['best', 'random']\n",
    "}\n",
    "\n",
    "grid_search_dt = GridSearchCV(dtc, parameters, cv = 5, n_jobs = -1, verbose = 1)\n",
    "grid_search_dt.fit(X_train, y_train)"
   ]
  },
  {
   "cell_type": "code",
   "execution_count": null,
   "id": "458b4d33",
   "metadata": {
    "papermill": {
     "duration": 0.108014,
     "end_time": "2021-05-27T10:18:10.906583",
     "exception": false,
     "start_time": "2021-05-27T10:18:10.798569",
     "status": "completed"
    },
    "tags": []
   },
   "outputs": [],
   "source": [
    "# best parameters\n",
    "\n",
    "grid_search_dt.best_params_"
   ]
  },
  {
   "cell_type": "code",
   "execution_count": null,
   "id": "06bbabe3",
   "metadata": {
    "papermill": {
     "duration": 0.108607,
     "end_time": "2021-05-27T10:18:11.114537",
     "exception": false,
     "start_time": "2021-05-27T10:18:11.005930",
     "status": "completed"
    },
    "tags": []
   },
   "outputs": [],
   "source": [
    "# best score\n",
    "\n",
    "grid_search_dt.best_score_"
   ]
  },
  {
   "cell_type": "code",
   "execution_count": null,
   "id": "3a19f9f7",
   "metadata": {
    "papermill": {
     "duration": 0.110313,
     "end_time": "2021-05-27T10:18:11.325286",
     "exception": false,
     "start_time": "2021-05-27T10:18:11.214973",
     "status": "completed"
    },
    "tags": []
   },
   "outputs": [],
   "source": [
    "dtc = DecisionTreeClassifier(criterion= 'entropy', max_depth= 19, min_samples_leaf= 4, min_samples_split= 6, splitter= 'random')\n",
    "dtc.fit(X_train, y_train)"
   ]
  },
  {
   "cell_type": "code",
   "execution_count": null,
   "id": "a4cde2fb",
   "metadata": {
    "papermill": {
     "duration": 0.108055,
     "end_time": "2021-05-27T10:18:11.533627",
     "exception": false,
     "start_time": "2021-05-27T10:18:11.425572",
     "status": "completed"
    },
    "tags": []
   },
   "outputs": [],
   "source": [
    "y_pred = dtc.predict(X_test)"
   ]
  },
  {
   "cell_type": "code",
   "execution_count": null,
   "id": "303ffdcb",
   "metadata": {
    "papermill": {
     "duration": 0.110252,
     "end_time": "2021-05-27T10:18:11.744700",
     "exception": false,
     "start_time": "2021-05-27T10:18:11.634448",
     "status": "completed"
    },
    "tags": []
   },
   "outputs": [],
   "source": [
    "# accuracy score\n",
    "\n",
    "print(accuracy_score(y_train, dtc.predict(X_train)))\n",
    "\n",
    "dtc_acc = accuracy_score(y_test, dtc.predict(X_test))\n",
    "print(dtc_acc)"
   ]
  },
  {
   "cell_type": "code",
   "execution_count": null,
   "id": "c3e054c1",
   "metadata": {
    "papermill": {
     "duration": 0.112407,
     "end_time": "2021-05-27T10:18:11.957321",
     "exception": false,
     "start_time": "2021-05-27T10:18:11.844914",
     "status": "completed"
    },
    "tags": []
   },
   "outputs": [],
   "source": [
    "# confusion matrix\n",
    "\n",
    "print(confusion_matrix(y_test, y_pred))"
   ]
  },
  {
   "cell_type": "code",
   "execution_count": null,
   "id": "dbc70ff0",
   "metadata": {
    "papermill": {
     "duration": 0.120056,
     "end_time": "2021-05-27T10:18:12.178485",
     "exception": false,
     "start_time": "2021-05-27T10:18:12.058429",
     "status": "completed"
    },
    "tags": []
   },
   "outputs": [],
   "source": [
    "# classification report\n",
    "\n",
    "print(classification_report(y_test, y_pred))"
   ]
  },
  {
   "cell_type": "markdown",
   "id": "9d63dec6",
   "metadata": {
    "papermill": {
     "duration": 0.101079,
     "end_time": "2021-05-27T10:18:12.381673",
     "exception": false,
     "start_time": "2021-05-27T10:18:12.280594",
     "status": "completed"
    },
    "tags": []
   },
   "source": [
    "# Random Forest Classifier"
   ]
  },
  {
   "cell_type": "code",
   "execution_count": null,
   "id": "c4fe6e76",
   "metadata": {
    "papermill": {
     "duration": 0.464433,
     "end_time": "2021-05-27T10:18:12.950119",
     "exception": false,
     "start_time": "2021-05-27T10:18:12.485686",
     "status": "completed"
    },
    "tags": []
   },
   "outputs": [],
   "source": [
    "from sklearn.ensemble import RandomForestClassifier\n",
    "\n",
    "rand_clf = RandomForestClassifier(criterion = 'entropy', max_depth = 10, max_features = 'auto', min_samples_leaf = 2, min_samples_split = 3, n_estimators = 130)\n",
    "rand_clf.fit(X_train, y_train)"
   ]
  },
  {
   "cell_type": "code",
   "execution_count": null,
   "id": "f4205e51",
   "metadata": {
    "papermill": {
     "duration": 0.126462,
     "end_time": "2021-05-27T10:18:13.178685",
     "exception": false,
     "start_time": "2021-05-27T10:18:13.052223",
     "status": "completed"
    },
    "tags": []
   },
   "outputs": [],
   "source": [
    "y_pred = rand_clf.predict(X_test)"
   ]
  },
  {
   "cell_type": "code",
   "execution_count": null,
   "id": "9a1a359d",
   "metadata": {
    "papermill": {
     "duration": 0.132303,
     "end_time": "2021-05-27T10:18:13.413308",
     "exception": false,
     "start_time": "2021-05-27T10:18:13.281005",
     "status": "completed"
    },
    "tags": []
   },
   "outputs": [],
   "source": [
    "# accuracy score\n",
    "\n",
    "print(accuracy_score(y_train, rand_clf.predict(X_train)))\n",
    "\n",
    "ran_clf_acc = accuracy_score(y_test, y_pred)\n",
    "print(ran_clf_acc)"
   ]
  },
  {
   "cell_type": "code",
   "execution_count": null,
   "id": "ed6a98b6",
   "metadata": {
    "papermill": {
     "duration": 0.117425,
     "end_time": "2021-05-27T10:18:13.634463",
     "exception": false,
     "start_time": "2021-05-27T10:18:13.517038",
     "status": "completed"
    },
    "tags": []
   },
   "outputs": [],
   "source": [
    "# confusion matrix\n",
    "\n",
    "print(confusion_matrix(y_test, y_pred))"
   ]
  },
  {
   "cell_type": "code",
   "execution_count": null,
   "id": "705b3924",
   "metadata": {
    "papermill": {
     "duration": 0.118486,
     "end_time": "2021-05-27T10:18:13.908936",
     "exception": false,
     "start_time": "2021-05-27T10:18:13.790450",
     "status": "completed"
    },
    "tags": []
   },
   "outputs": [],
   "source": [
    "# classification report\n",
    "\n",
    "print(classification_report(y_test, y_pred))"
   ]
  },
  {
   "cell_type": "markdown",
   "id": "064a0457",
   "metadata": {
    "papermill": {
     "duration": 0.12969,
     "end_time": "2021-05-27T10:18:17.527648",
     "exception": false,
     "start_time": "2021-05-27T10:18:17.397958",
     "status": "completed"
    },
    "tags": []
   },
   "source": [
    "# Gradient Boosting Classifier"
   ]
  },
  {
   "cell_type": "code",
   "execution_count": null,
   "id": "64f00920",
   "metadata": {
    "papermill": {
     "duration": 23.637404,
     "end_time": "2021-05-27T10:18:41.281113",
     "exception": false,
     "start_time": "2021-05-27T10:18:17.643709",
     "status": "completed"
    },
    "tags": []
   },
   "outputs": [],
   "source": [
    "from sklearn.ensemble import GradientBoostingClassifier\n",
    "\n",
    "gbc = GradientBoostingClassifier()\n",
    "\n",
    "parameters = {\n",
    "    'loss': ['deviance', 'exponential'],\n",
    "    'learning_rate': [0.001, 0.1],\n",
    "    'n_estimators': [100, 150, 180]\n",
    "}\n",
    "\n",
    "grid_search_gbc = GridSearchCV(gbc, parameters, cv = 2, n_jobs = -5, verbose = 1)\n",
    "grid_search_gbc.fit(X_train, y_train)"
   ]
  },
  {
   "cell_type": "code",
   "execution_count": null,
   "id": "7136f4c1",
   "metadata": {
    "papermill": {
     "duration": 0.11675,
     "end_time": "2021-05-27T10:18:41.506186",
     "exception": false,
     "start_time": "2021-05-27T10:18:41.389436",
     "status": "completed"
    },
    "tags": []
   },
   "outputs": [],
   "source": [
    "# best parameters \n",
    "\n",
    "grid_search_gbc.best_params_"
   ]
  },
  {
   "cell_type": "code",
   "execution_count": null,
   "id": "2375e15f",
   "metadata": {
    "papermill": {
     "duration": 0.115397,
     "end_time": "2021-05-27T10:18:41.731443",
     "exception": false,
     "start_time": "2021-05-27T10:18:41.616046",
     "status": "completed"
    },
    "tags": []
   },
   "outputs": [],
   "source": [
    "# best score\n",
    "\n",
    "grid_search_gbc.best_score_"
   ]
  },
  {
   "cell_type": "code",
   "execution_count": null,
   "id": "09f00b0f",
   "metadata": {
    "papermill": {
     "duration": 0.687823,
     "end_time": "2021-05-27T10:18:42.528644",
     "exception": false,
     "start_time": "2021-05-27T10:18:41.840821",
     "status": "completed"
    },
    "tags": []
   },
   "outputs": [],
   "source": [
    "gbc = GradientBoostingClassifier(learning_rate = 0.1, loss = 'exponential', n_estimators = 180)\n",
    "gbc.fit(X_train, y_train)"
   ]
  },
  {
   "cell_type": "code",
   "execution_count": null,
   "id": "893c064c",
   "metadata": {
    "papermill": {
     "duration": 0.117512,
     "end_time": "2021-05-27T10:18:42.755155",
     "exception": false,
     "start_time": "2021-05-27T10:18:42.637643",
     "status": "completed"
    },
    "tags": []
   },
   "outputs": [],
   "source": [
    "y_pred = gbc.predict(X_test)"
   ]
  },
  {
   "cell_type": "code",
   "execution_count": null,
   "id": "bfd06bda",
   "metadata": {
    "papermill": {
     "duration": 0.122339,
     "end_time": "2021-05-27T10:18:42.987495",
     "exception": false,
     "start_time": "2021-05-27T10:18:42.865156",
     "status": "completed"
    },
    "tags": []
   },
   "outputs": [],
   "source": [
    "# accuracy score\n",
    "\n",
    "print(accuracy_score(y_train, gbc.predict(X_train)))\n",
    "\n",
    "gbc_acc = accuracy_score(y_test, y_pred)\n",
    "print(gbc_acc)"
   ]
  },
  {
   "cell_type": "code",
   "execution_count": null,
   "id": "fee382bc",
   "metadata": {
    "papermill": {
     "duration": 0.11938,
     "end_time": "2021-05-27T10:18:43.217826",
     "exception": false,
     "start_time": "2021-05-27T10:18:43.098446",
     "status": "completed"
    },
    "tags": []
   },
   "outputs": [],
   "source": [
    "# confusion matrix\n",
    "\n",
    "print(confusion_matrix(y_test, y_pred))"
   ]
  },
  {
   "cell_type": "code",
   "execution_count": null,
   "id": "1a794431",
   "metadata": {
    "papermill": {
     "duration": 0.122432,
     "end_time": "2021-05-27T10:18:43.449905",
     "exception": false,
     "start_time": "2021-05-27T10:18:43.327473",
     "status": "completed"
    },
    "tags": []
   },
   "outputs": [],
   "source": [
    "# classification report\n",
    "\n",
    "print(classification_report(y_test, y_pred))"
   ]
  },
  {
   "cell_type": "markdown",
   "id": "d137d174",
   "metadata": {
    "papermill": {
     "duration": 0.114235,
     "end_time": "2021-05-27T10:18:45.613111",
     "exception": false,
     "start_time": "2021-05-27T10:18:45.498876",
     "status": "completed"
    },
    "tags": []
   },
   "source": [
    "# Extreme Gradient Boosting"
   ]
  },
  {
   "cell_type": "code",
   "execution_count": null,
   "id": "f9808a0b",
   "metadata": {
    "papermill": {
     "duration": 0.280015,
     "end_time": "2021-05-27T10:18:46.005317",
     "exception": false,
     "start_time": "2021-05-27T10:18:45.725302",
     "status": "completed"
    },
    "tags": []
   },
   "outputs": [],
   "source": [
    "from xgboost import XGBClassifier \n",
    "\n",
    "xgb = XGBClassifier(objective = 'binary:logistic', learning_rate = 0.01, max_depth = 5, n_estimators = 180)\n",
    "\n",
    "xgb.fit(X_train, y_train)"
   ]
  },
  {
   "cell_type": "code",
   "execution_count": null,
   "id": "6b39547c",
   "metadata": {
    "papermill": {
     "duration": 0.125053,
     "end_time": "2021-05-27T10:18:46.244659",
     "exception": false,
     "start_time": "2021-05-27T10:18:46.119606",
     "status": "completed"
    },
    "tags": []
   },
   "outputs": [],
   "source": [
    "y_pred = xgb.predict(X_test)"
   ]
  },
  {
   "cell_type": "code",
   "execution_count": null,
   "id": "dcef01f2",
   "metadata": {
    "papermill": {
     "duration": 0.134331,
     "end_time": "2021-05-27T10:18:46.494949",
     "exception": false,
     "start_time": "2021-05-27T10:18:46.360618",
     "status": "completed"
    },
    "tags": []
   },
   "outputs": [],
   "source": [
    "# accuracy score\n",
    "\n",
    "print(accuracy_score(y_train, xgb.predict(X_train)))\n",
    "\n",
    "xgb_acc = accuracy_score(y_test, y_pred)\n",
    "print(xgb_acc)"
   ]
  },
  {
   "cell_type": "code",
   "execution_count": null,
   "id": "40c20c92",
   "metadata": {
    "papermill": {
     "duration": 0.122734,
     "end_time": "2021-05-27T10:18:46.733523",
     "exception": false,
     "start_time": "2021-05-27T10:18:46.610789",
     "status": "completed"
    },
    "tags": []
   },
   "outputs": [],
   "source": [
    "# confusion matrix\n",
    "\n",
    "print(confusion_matrix(y_test, y_pred))"
   ]
  },
  {
   "cell_type": "code",
   "execution_count": null,
   "id": "e8086cf4",
   "metadata": {
    "papermill": {
     "duration": 0.126897,
     "end_time": "2021-05-27T10:18:46.975315",
     "exception": false,
     "start_time": "2021-05-27T10:18:46.848418",
     "status": "completed"
    },
    "tags": []
   },
   "outputs": [],
   "source": [
    "# classification report\n",
    "\n",
    "print(classification_report(y_test, y_pred))"
   ]
  },
  {
   "cell_type": "markdown",
   "id": "5fd57957-8e61-439f-95a5-34adbbd47d32",
   "metadata": {},
   "source": [
    "# Model Comparison"
   ]
  },
  {
   "cell_type": "code",
   "execution_count": null,
   "id": "240bbb18",
   "metadata": {
    "papermill": {
     "duration": 0.132737,
     "end_time": "2021-05-27T10:18:47.223300",
     "exception": false,
     "start_time": "2021-05-27T10:18:47.090563",
     "status": "completed"
    },
    "tags": []
   },
   "outputs": [],
   "source": [
    "models = pd.DataFrame({\n",
    "    'Model': ['Logistic Regression', 'KNN', 'SVM', 'Decision Tree Classifier', 'Random Forest Classifier', 'Gradient Boosting Classifier', 'XgBoost'],\n",
    "    'Score': [100*round(log_reg_acc,4), 100*round(knn_acc,4), 100*round(svc_acc,4), 100*round(dtc_acc,4), 100*round(ran_clf_acc,4), \n",
    "              100*round(gbc_acc,4), 100*round(xgb_acc,4)]\n",
    "})\n",
    "models.sort_values(by = 'Score', ascending = False)"
   ]
  },
  {
   "cell_type": "code",
   "execution_count": null,
   "id": "29116554",
   "metadata": {},
   "outputs": [],
   "source": [
    "import pickle\n",
    "model = svc\n",
    "pickle.dump(model, open(\"breast_cancer.pkl\",'wb'))"
   ]
  },
  {
   "cell_type": "code",
   "execution_count": null,
   "id": "f9ebd93b",
   "metadata": {},
   "outputs": [],
   "source": [
    "from sklearn import metrics\n",
    "plt.figure(figsize=(8,5))\n",
    "models = [\n",
    "{\n",
    "    'label': 'LR',\n",
    "    'model': log_reg,\n",
    "},\n",
    "{\n",
    "    'label': 'DT',\n",
    "    'model': dtc,\n",
    "},\n",
    "{\n",
    "    'label': 'SVM',\n",
    "    'model': svc,\n",
    "},\n",
    "{\n",
    "    'label': 'KNN',\n",
    "    'model': knn,\n",
    "},\n",
    "{\n",
    "    'label': 'XGBoost',\n",
    "    'model': xgb,\n",
    "},\n",
    "{\n",
    "    'label': 'RF',\n",
    "    'model': rand_clf,\n",
    "},\n",
    "{\n",
    "    'label': 'GBDT',\n",
    "    'model': gbc,\n",
    "}\n",
    "]\n",
    "for m in models:\n",
    "    model = m['model'] \n",
    "    model.fit(X_train, y_train) \n",
    "    y_pred=model.predict(X_test) \n",
    "    fpr1, tpr1, thresholds = metrics.roc_curve(y_test, model.predict_proba(X_test)[:,1])\n",
    "    auc = metrics.roc_auc_score(y_test,model.predict(X_test))\n",
    "    plt.plot(fpr1, tpr1, label='%s - ROC (area = %0.2f)' % (m['label'], auc))\n",
    "\n",
    "plt.plot([0, 1], [0, 1],'r--')\n",
    "plt.xlim([-0.01, 1.0])\n",
    "plt.ylim([0.0, 1.05])\n",
    "plt.xlabel('1 - Specificity (False Positive Rate)', fontsize=12)\n",
    "plt.ylabel('Sensitivity (True Positive Rate)', fontsize=12)\n",
    "plt.title('ROC - Breast Cancer Prediction', fontsize=12)\n",
    "plt.legend(loc=\"lower right\", fontsize=12)\n",
    "plt.savefig(\"outputs/roc_breast_cancer.jpeg\", format='jpeg', dpi=400, bbox_inches='tight')\n",
    "plt.show()"
   ]
  },
  {
   "cell_type": "code",
   "execution_count": null,
   "id": "c59530dc",
   "metadata": {},
   "outputs": [],
   "source": [
    "from sklearn import metrics\n",
    "import numpy as np\n",
    "import matplotlib.pyplot as plt\n",
    "models = [\n",
    "{\n",
    "    'label': 'LR',\n",
    "    'model': log_reg,\n",
    "},\n",
    "{\n",
    "    'label': 'DT',\n",
    "    'model': dtc,\n",
    "},\n",
    "{\n",
    "    'label': 'SVM',\n",
    "    'model': svc,\n",
    "},\n",
    "{\n",
    "    'label': 'KNN',\n",
    "    'model': knn,\n",
    "},\n",
    "{\n",
    "    'label': 'XGBoost',\n",
    "    'model': xgb,\n",
    "},\n",
    "{\n",
    "    'label': 'RF',\n",
    "    'model': rand_clf,\n",
    "},\n",
    "{\n",
    "    'label': 'GBDT',\n",
    "    'model': gbc,\n",
    "}\n",
    "]\n",
    "\n",
    "means_roc = []\n",
    "means_accuracy = [100*round(log_reg_acc,4), 100*round(dtc_acc,4), 100*round(svc_acc,4), 100*round(knn_acc,4), 100*round(xgb_acc,4), \n",
    "                  100*round(ran_clf_acc,4), 100*round(gbc_acc,4)]\n",
    "\n",
    "for m in models:\n",
    "    model = m['model'] \n",
    "    model.fit(X_train, y_train) \n",
    "    y_pred=model.predict(X_test) \n",
    "    fpr1, tpr1, thresholds = metrics.roc_curve(y_test, model.predict_proba(X_test)[:,1])\n",
    "    auc = metrics.roc_auc_score(y_test,model.predict(X_test))\n",
    "    auc = 100*round(auc,4)\n",
    "    means_roc.append(auc)\n",
    "\n",
    "print(means_accuracy)\n",
    "print(means_roc)\n",
    "\n",
    "# data to plot\n",
    "n_groups = 7\n",
    "means_accuracy = tuple(means_accuracy)\n",
    "means_roc = tuple(means_roc)\n",
    "\n",
    "# create plot\n",
    "fig, ax = plt.subplots(figsize=(8,5))\n",
    "index = np.arange(n_groups)\n",
    "bar_width = 0.35\n",
    "opacity = 0.8\n",
    "\n",
    "rects1 = plt.bar(index, means_accuracy, bar_width,\n",
    "alpha=opacity,\n",
    "color='mediumpurple',\n",
    "label='Accuracy (%)')\n",
    "\n",
    "rects2 = plt.bar(index + bar_width, means_roc, bar_width,\n",
    "alpha=opacity,\n",
    "color='rebeccapurple',\n",
    "label='ROC (%)')\n",
    "\n",
    "plt.xlim([-1, 8])\n",
    "plt.ylim([70, 104])\n",
    "\n",
    "plt.title('Performance Evaluation - Breast Cancer Prediction', fontsize=12)\n",
    "plt.xticks(index, ('   LR', '   DT', '   SVM', '   KNN', 'XGBoost' , '   RF', '   GBDT'), rotation=40, ha='center', fontsize=12)\n",
    "plt.legend(loc=\"upper right\", fontsize=10)\n",
    "plt.savefig(\"outputs/PE_breast_cancer.jpeg\", format='jpeg', dpi=400, bbox_inches='tight')\n",
    "plt.show()"
   ]
  },
  {
   "cell_type": "code",
   "execution_count": null,
   "id": "66e84652",
   "metadata": {},
   "outputs": [],
   "source": []
  },
  {
   "cell_type": "code",
   "execution_count": null,
   "id": "30f82083",
   "metadata": {},
   "outputs": [],
   "source": []
  },
  {
   "cell_type": "code",
   "execution_count": null,
   "id": "36c7f7b6",
   "metadata": {},
   "outputs": [],
   "source": []
  },
  {
   "cell_type": "code",
   "execution_count": null,
   "id": "e164520e",
   "metadata": {},
   "outputs": [],
   "source": []
  },
  {
   "cell_type": "code",
   "execution_count": null,
   "id": "eb27b7f9",
   "metadata": {},
   "outputs": [],
   "source": []
  },
  {
   "cell_type": "code",
   "execution_count": null,
   "id": "45fdca01",
   "metadata": {},
   "outputs": [],
   "source": []
  },
  {
   "cell_type": "code",
   "execution_count": null,
   "id": "6432bec4",
   "metadata": {},
   "outputs": [],
   "source": []
  },
  {
   "cell_type": "code",
   "execution_count": null,
   "id": "8d301f60",
   "metadata": {},
   "outputs": [],
   "source": []
  },
  {
   "cell_type": "code",
   "execution_count": null,
   "id": "64e101e8",
   "metadata": {},
   "outputs": [],
   "source": []
  },
  {
   "cell_type": "code",
   "execution_count": null,
   "id": "f1285824",
   "metadata": {},
   "outputs": [],
   "source": []
  },
  {
   "cell_type": "code",
   "execution_count": null,
   "id": "8ea6d49e",
   "metadata": {},
   "outputs": [],
   "source": []
  },
  {
   "cell_type": "code",
   "execution_count": null,
   "id": "48bcfbda",
   "metadata": {},
   "outputs": [],
   "source": []
  },
  {
   "cell_type": "code",
   "execution_count": null,
   "id": "ceb60555",
   "metadata": {},
   "outputs": [],
   "source": []
  }
 ],
 "metadata": {
  "kernelspec": {
   "display_name": "Python 3 (ipykernel)",
   "language": "python",
   "name": "python3"
  },
  "language_info": {
   "codemirror_mode": {
    "name": "ipython",
    "version": 3
   },
   "file_extension": ".py",
   "mimetype": "text/x-python",
   "name": "python",
   "nbconvert_exporter": "python",
   "pygments_lexer": "ipython3",
   "version": "3.9.12"
  },
  "papermill": {
   "default_parameters": {},
   "duration": 139.152124,
   "end_time": "2021-05-27T10:18:49.215547",
   "environment_variables": {},
   "exception": null,
   "input_path": "__notebook__.ipynb",
   "output_path": "__notebook__.ipynb",
   "parameters": {},
   "start_time": "2021-05-27T10:16:30.063423",
   "version": "2.3.3"
  }
 },
 "nbformat": 4,
 "nbformat_minor": 5
}
